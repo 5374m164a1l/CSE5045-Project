{
  "nbformat": 4,
  "nbformat_minor": 0,
  "metadata": {
    "colab": {
      "name": "Exploring_Pub_Finder_v2.ipynb",
      "provenance": [],
      "collapsed_sections": [],
      "mount_file_id": "1ji0gcIIlqqZ-BKOTIZGVp2o6kW49aNe6",
      "authorship_tag": "ABX9TyMZcBmaFJLcgJ9vWqgEI5fl",
      "include_colab_link": true
    },
    "kernelspec": {
      "name": "python3",
      "display_name": "Python 3"
    },
    "widgets": {
      "application/vnd.jupyter.widget-state+json": {
        "d8799c7463f848498277bfa42ae4fc21": {
          "model_module": "@jupyter-widgets/controls",
          "model_name": "HBoxModel",
          "state": {
            "_view_name": "HBoxView",
            "_dom_classes": [],
            "_model_name": "HBoxModel",
            "_view_module": "@jupyter-widgets/controls",
            "_model_module_version": "1.5.0",
            "_view_count": null,
            "_view_module_version": "1.5.0",
            "box_style": "",
            "layout": "IPY_MODEL_2568de9f0c6247abb751f654e92351b9",
            "_model_module": "@jupyter-widgets/controls",
            "children": [
              "IPY_MODEL_fdb7344ee2254a30afcf76be60d8b5f0",
              "IPY_MODEL_94f5a450bb494de1b5ee4c34d8b3d540"
            ]
          }
        },
        "2568de9f0c6247abb751f654e92351b9": {
          "model_module": "@jupyter-widgets/base",
          "model_name": "LayoutModel",
          "state": {
            "_view_name": "LayoutView",
            "grid_template_rows": null,
            "right": null,
            "justify_content": null,
            "_view_module": "@jupyter-widgets/base",
            "overflow": null,
            "_model_module_version": "1.2.0",
            "_view_count": null,
            "flex_flow": null,
            "width": null,
            "min_width": null,
            "border": null,
            "align_items": null,
            "bottom": null,
            "_model_module": "@jupyter-widgets/base",
            "top": null,
            "grid_column": null,
            "overflow_y": null,
            "overflow_x": null,
            "grid_auto_flow": null,
            "grid_area": null,
            "grid_template_columns": null,
            "flex": null,
            "_model_name": "LayoutModel",
            "justify_items": null,
            "grid_row": null,
            "max_height": null,
            "align_content": null,
            "visibility": null,
            "align_self": null,
            "height": null,
            "min_height": null,
            "padding": null,
            "grid_auto_rows": null,
            "grid_gap": null,
            "max_width": null,
            "order": null,
            "_view_module_version": "1.2.0",
            "grid_template_areas": null,
            "object_position": null,
            "object_fit": null,
            "grid_auto_columns": null,
            "margin": null,
            "display": null,
            "left": null
          }
        },
        "fdb7344ee2254a30afcf76be60d8b5f0": {
          "model_module": "@jupyter-widgets/controls",
          "model_name": "FloatProgressModel",
          "state": {
            "_view_name": "ProgressView",
            "style": "IPY_MODEL_eb2741467e144cd2bc5b816e9b6d01ee",
            "_dom_classes": [],
            "description": "Downloading: 100%",
            "_model_name": "FloatProgressModel",
            "bar_style": "success",
            "max": 433,
            "_view_module": "@jupyter-widgets/controls",
            "_model_module_version": "1.5.0",
            "value": 433,
            "_view_count": null,
            "_view_module_version": "1.5.0",
            "orientation": "horizontal",
            "min": 0,
            "description_tooltip": null,
            "_model_module": "@jupyter-widgets/controls",
            "layout": "IPY_MODEL_03ad5d83d0df4e708d86a359ee27acf7"
          }
        },
        "94f5a450bb494de1b5ee4c34d8b3d540": {
          "model_module": "@jupyter-widgets/controls",
          "model_name": "HTMLModel",
          "state": {
            "_view_name": "HTMLView",
            "style": "IPY_MODEL_9ffcb3bf312348429e8810e358c3b1be",
            "_dom_classes": [],
            "description": "",
            "_model_name": "HTMLModel",
            "placeholder": "​",
            "_view_module": "@jupyter-widgets/controls",
            "_model_module_version": "1.5.0",
            "value": " 433/433 [00:20&lt;00:00, 20.7B/s]",
            "_view_count": null,
            "_view_module_version": "1.5.0",
            "description_tooltip": null,
            "_model_module": "@jupyter-widgets/controls",
            "layout": "IPY_MODEL_26e78dd2df4749fb93a4e9fa205acddb"
          }
        },
        "eb2741467e144cd2bc5b816e9b6d01ee": {
          "model_module": "@jupyter-widgets/controls",
          "model_name": "ProgressStyleModel",
          "state": {
            "_view_name": "StyleView",
            "_model_name": "ProgressStyleModel",
            "description_width": "initial",
            "_view_module": "@jupyter-widgets/base",
            "_model_module_version": "1.5.0",
            "_view_count": null,
            "_view_module_version": "1.2.0",
            "bar_color": null,
            "_model_module": "@jupyter-widgets/controls"
          }
        },
        "03ad5d83d0df4e708d86a359ee27acf7": {
          "model_module": "@jupyter-widgets/base",
          "model_name": "LayoutModel",
          "state": {
            "_view_name": "LayoutView",
            "grid_template_rows": null,
            "right": null,
            "justify_content": null,
            "_view_module": "@jupyter-widgets/base",
            "overflow": null,
            "_model_module_version": "1.2.0",
            "_view_count": null,
            "flex_flow": null,
            "width": null,
            "min_width": null,
            "border": null,
            "align_items": null,
            "bottom": null,
            "_model_module": "@jupyter-widgets/base",
            "top": null,
            "grid_column": null,
            "overflow_y": null,
            "overflow_x": null,
            "grid_auto_flow": null,
            "grid_area": null,
            "grid_template_columns": null,
            "flex": null,
            "_model_name": "LayoutModel",
            "justify_items": null,
            "grid_row": null,
            "max_height": null,
            "align_content": null,
            "visibility": null,
            "align_self": null,
            "height": null,
            "min_height": null,
            "padding": null,
            "grid_auto_rows": null,
            "grid_gap": null,
            "max_width": null,
            "order": null,
            "_view_module_version": "1.2.0",
            "grid_template_areas": null,
            "object_position": null,
            "object_fit": null,
            "grid_auto_columns": null,
            "margin": null,
            "display": null,
            "left": null
          }
        },
        "9ffcb3bf312348429e8810e358c3b1be": {
          "model_module": "@jupyter-widgets/controls",
          "model_name": "DescriptionStyleModel",
          "state": {
            "_view_name": "StyleView",
            "_model_name": "DescriptionStyleModel",
            "description_width": "",
            "_view_module": "@jupyter-widgets/base",
            "_model_module_version": "1.5.0",
            "_view_count": null,
            "_view_module_version": "1.2.0",
            "_model_module": "@jupyter-widgets/controls"
          }
        },
        "26e78dd2df4749fb93a4e9fa205acddb": {
          "model_module": "@jupyter-widgets/base",
          "model_name": "LayoutModel",
          "state": {
            "_view_name": "LayoutView",
            "grid_template_rows": null,
            "right": null,
            "justify_content": null,
            "_view_module": "@jupyter-widgets/base",
            "overflow": null,
            "_model_module_version": "1.2.0",
            "_view_count": null,
            "flex_flow": null,
            "width": null,
            "min_width": null,
            "border": null,
            "align_items": null,
            "bottom": null,
            "_model_module": "@jupyter-widgets/base",
            "top": null,
            "grid_column": null,
            "overflow_y": null,
            "overflow_x": null,
            "grid_auto_flow": null,
            "grid_area": null,
            "grid_template_columns": null,
            "flex": null,
            "_model_name": "LayoutModel",
            "justify_items": null,
            "grid_row": null,
            "max_height": null,
            "align_content": null,
            "visibility": null,
            "align_self": null,
            "height": null,
            "min_height": null,
            "padding": null,
            "grid_auto_rows": null,
            "grid_gap": null,
            "max_width": null,
            "order": null,
            "_view_module_version": "1.2.0",
            "grid_template_areas": null,
            "object_position": null,
            "object_fit": null,
            "grid_auto_columns": null,
            "margin": null,
            "display": null,
            "left": null
          }
        },
        "b231fc6c282946b2b2b999dfcaa5dd89": {
          "model_module": "@jupyter-widgets/controls",
          "model_name": "HBoxModel",
          "state": {
            "_view_name": "HBoxView",
            "_dom_classes": [],
            "_model_name": "HBoxModel",
            "_view_module": "@jupyter-widgets/controls",
            "_model_module_version": "1.5.0",
            "_view_count": null,
            "_view_module_version": "1.5.0",
            "box_style": "",
            "layout": "IPY_MODEL_915217c005bd40f8a03784f4198bdf7a",
            "_model_module": "@jupyter-widgets/controls",
            "children": [
              "IPY_MODEL_bf5a97dfbac545a49e03acf1d2416711",
              "IPY_MODEL_8287eec0b50b47abb26ac3014c1deaac"
            ]
          }
        },
        "915217c005bd40f8a03784f4198bdf7a": {
          "model_module": "@jupyter-widgets/base",
          "model_name": "LayoutModel",
          "state": {
            "_view_name": "LayoutView",
            "grid_template_rows": null,
            "right": null,
            "justify_content": null,
            "_view_module": "@jupyter-widgets/base",
            "overflow": null,
            "_model_module_version": "1.2.0",
            "_view_count": null,
            "flex_flow": null,
            "width": null,
            "min_width": null,
            "border": null,
            "align_items": null,
            "bottom": null,
            "_model_module": "@jupyter-widgets/base",
            "top": null,
            "grid_column": null,
            "overflow_y": null,
            "overflow_x": null,
            "grid_auto_flow": null,
            "grid_area": null,
            "grid_template_columns": null,
            "flex": null,
            "_model_name": "LayoutModel",
            "justify_items": null,
            "grid_row": null,
            "max_height": null,
            "align_content": null,
            "visibility": null,
            "align_self": null,
            "height": null,
            "min_height": null,
            "padding": null,
            "grid_auto_rows": null,
            "grid_gap": null,
            "max_width": null,
            "order": null,
            "_view_module_version": "1.2.0",
            "grid_template_areas": null,
            "object_position": null,
            "object_fit": null,
            "grid_auto_columns": null,
            "margin": null,
            "display": null,
            "left": null
          }
        },
        "bf5a97dfbac545a49e03acf1d2416711": {
          "model_module": "@jupyter-widgets/controls",
          "model_name": "FloatProgressModel",
          "state": {
            "_view_name": "ProgressView",
            "style": "IPY_MODEL_a4239b34cf9f4b2a83abc478909a95a2",
            "_dom_classes": [],
            "description": "Downloading: 100%",
            "_model_name": "FloatProgressModel",
            "bar_style": "success",
            "max": 526681800,
            "_view_module": "@jupyter-widgets/controls",
            "_model_module_version": "1.5.0",
            "value": 526681800,
            "_view_count": null,
            "_view_module_version": "1.5.0",
            "orientation": "horizontal",
            "min": 0,
            "description_tooltip": null,
            "_model_module": "@jupyter-widgets/controls",
            "layout": "IPY_MODEL_79dcbcf4be844cecb3dfbe0a7e6b7de1"
          }
        },
        "8287eec0b50b47abb26ac3014c1deaac": {
          "model_module": "@jupyter-widgets/controls",
          "model_name": "HTMLModel",
          "state": {
            "_view_name": "HTMLView",
            "style": "IPY_MODEL_8e9b3b81616f4be196ce2c5ee9f1737f",
            "_dom_classes": [],
            "description": "",
            "_model_name": "HTMLModel",
            "placeholder": "​",
            "_view_module": "@jupyter-widgets/controls",
            "_model_module_version": "1.5.0",
            "value": " 527M/527M [00:19&lt;00:00, 27.0MB/s]",
            "_view_count": null,
            "_view_module_version": "1.5.0",
            "description_tooltip": null,
            "_model_module": "@jupyter-widgets/controls",
            "layout": "IPY_MODEL_e2b8fe09bc8f4eeeb718b2ae740b5e04"
          }
        },
        "a4239b34cf9f4b2a83abc478909a95a2": {
          "model_module": "@jupyter-widgets/controls",
          "model_name": "ProgressStyleModel",
          "state": {
            "_view_name": "StyleView",
            "_model_name": "ProgressStyleModel",
            "description_width": "initial",
            "_view_module": "@jupyter-widgets/base",
            "_model_module_version": "1.5.0",
            "_view_count": null,
            "_view_module_version": "1.2.0",
            "bar_color": null,
            "_model_module": "@jupyter-widgets/controls"
          }
        },
        "79dcbcf4be844cecb3dfbe0a7e6b7de1": {
          "model_module": "@jupyter-widgets/base",
          "model_name": "LayoutModel",
          "state": {
            "_view_name": "LayoutView",
            "grid_template_rows": null,
            "right": null,
            "justify_content": null,
            "_view_module": "@jupyter-widgets/base",
            "overflow": null,
            "_model_module_version": "1.2.0",
            "_view_count": null,
            "flex_flow": null,
            "width": null,
            "min_width": null,
            "border": null,
            "align_items": null,
            "bottom": null,
            "_model_module": "@jupyter-widgets/base",
            "top": null,
            "grid_column": null,
            "overflow_y": null,
            "overflow_x": null,
            "grid_auto_flow": null,
            "grid_area": null,
            "grid_template_columns": null,
            "flex": null,
            "_model_name": "LayoutModel",
            "justify_items": null,
            "grid_row": null,
            "max_height": null,
            "align_content": null,
            "visibility": null,
            "align_self": null,
            "height": null,
            "min_height": null,
            "padding": null,
            "grid_auto_rows": null,
            "grid_gap": null,
            "max_width": null,
            "order": null,
            "_view_module_version": "1.2.0",
            "grid_template_areas": null,
            "object_position": null,
            "object_fit": null,
            "grid_auto_columns": null,
            "margin": null,
            "display": null,
            "left": null
          }
        },
        "8e9b3b81616f4be196ce2c5ee9f1737f": {
          "model_module": "@jupyter-widgets/controls",
          "model_name": "DescriptionStyleModel",
          "state": {
            "_view_name": "StyleView",
            "_model_name": "DescriptionStyleModel",
            "description_width": "",
            "_view_module": "@jupyter-widgets/base",
            "_model_module_version": "1.5.0",
            "_view_count": null,
            "_view_module_version": "1.2.0",
            "_model_module": "@jupyter-widgets/controls"
          }
        },
        "e2b8fe09bc8f4eeeb718b2ae740b5e04": {
          "model_module": "@jupyter-widgets/base",
          "model_name": "LayoutModel",
          "state": {
            "_view_name": "LayoutView",
            "grid_template_rows": null,
            "right": null,
            "justify_content": null,
            "_view_module": "@jupyter-widgets/base",
            "overflow": null,
            "_model_module_version": "1.2.0",
            "_view_count": null,
            "flex_flow": null,
            "width": null,
            "min_width": null,
            "border": null,
            "align_items": null,
            "bottom": null,
            "_model_module": "@jupyter-widgets/base",
            "top": null,
            "grid_column": null,
            "overflow_y": null,
            "overflow_x": null,
            "grid_auto_flow": null,
            "grid_area": null,
            "grid_template_columns": null,
            "flex": null,
            "_model_name": "LayoutModel",
            "justify_items": null,
            "grid_row": null,
            "max_height": null,
            "align_content": null,
            "visibility": null,
            "align_self": null,
            "height": null,
            "min_height": null,
            "padding": null,
            "grid_auto_rows": null,
            "grid_gap": null,
            "max_width": null,
            "order": null,
            "_view_module_version": "1.2.0",
            "grid_template_areas": null,
            "object_position": null,
            "object_fit": null,
            "grid_auto_columns": null,
            "margin": null,
            "display": null,
            "left": null
          }
        }
      }
    },
    "accelerator": "GPU"
  },
  "cells": [
    {
      "cell_type": "markdown",
      "metadata": {
        "id": "view-in-github",
        "colab_type": "text"
      },
      "source": [
        "<a href=\"https://colab.research.google.com/github/5374m164a1l/CSE5045-Project/blob/master/Exploring_Pub_Finder_v2.ipynb\" target=\"_parent\"><img src=\"https://colab.research.google.com/assets/colab-badge.svg\" alt=\"Open In Colab\"/></a>"
      ]
    },
    {
      "cell_type": "code",
      "metadata": {
        "id": "w26HKw122SB0",
        "colab_type": "code",
        "colab": {
          "base_uri": "https://localhost:8080/",
          "height": 138
        },
        "outputId": "ee7528d9-8a2c-434b-cdfa-5a83c67c332e"
      },
      "source": [
        "!pip install -q transformers\n",
        "!pip install -q bert-tensorflow\n",
        "#!pip install -q pyyaml h5py  # Required to save models in HDF5 format\n",
        "!mkdir /content/training_1\n",
        "%cd /content/training_1"
      ],
      "execution_count": 1,
      "outputs": [
        {
          "output_type": "stream",
          "text": [
            "\u001b[K     |████████████████████████████████| 757kB 2.7MB/s \n",
            "\u001b[K     |████████████████████████████████| 1.1MB 14.5MB/s \n",
            "\u001b[K     |████████████████████████████████| 3.0MB 20.7MB/s \n",
            "\u001b[K     |████████████████████████████████| 890kB 39.0MB/s \n",
            "\u001b[?25h  Building wheel for sacremoses (setup.py) ... \u001b[?25l\u001b[?25hdone\n",
            "\u001b[K     |████████████████████████████████| 71kB 2.1MB/s \n",
            "\u001b[?25h/content/training_1\n"
          ],
          "name": "stdout"
        }
      ]
    },
    {
      "cell_type": "code",
      "metadata": {
        "id": "cI12clwLCNWi",
        "colab_type": "code",
        "colab": {}
      },
      "source": [
        "#!cat /usr/local/lib/python3.6/dist-packages/transformers/configuration_bert.py\n",
        "#!cat /usr/local/lib/python3.6/dist-packages/bert/tokenization.py\n",
        "#!cat /usr/local/lib/python3.6/dist-packages/tokenizers/implementations/bert_wordpiece.py"
      ],
      "execution_count": null,
      "outputs": []
    },
    {
      "cell_type": "code",
      "metadata": {
        "id": "O0itNDet2o_m",
        "colab_type": "code",
        "colab": {
          "base_uri": "https://localhost:8080/",
          "height": 52
        },
        "outputId": "e350a890-08f8-4c38-a9f9-b663686cbe92"
      },
      "source": [
        "import warnings\n",
        "warnings.filterwarnings(\"ignore\")\n",
        "\n",
        "import os, re\n",
        "import math\n",
        "import numpy as np\n",
        "import pandas as pd\n",
        "from tqdm import tqdm\n",
        "tqdm.pandas()\n",
        "\n",
        "import transformers\n",
        "import tensorflow as tf\n",
        "import tensorflow_hub as hub\n",
        "import bert\n",
        "from bert import tokenization\n",
        "\n",
        "from tensorflow.keras.callbacks import Callback\n",
        "from sklearn.metrics import accuracy_score, roc_auc_score\n",
        "from tensorflow.keras.callbacks import ModelCheckpoint, ReduceLROnPlateau, CSVLogger\n",
        "\n",
        "from tensorflow.keras.models import Model\n",
        "from tensorflow.keras.optimizers import Adam\n",
        "from tokenizers import BertWordPieceTokenizer\n",
        "from tensorflow.keras.layers import Dense, Input, Dropout, Embedding\n",
        "from tensorflow.keras.layers import LSTM, GRU, Conv1D, SpatialDropout1D\n",
        "\n",
        "#from tensorflow.keras import layers\n",
        "#from tensorflow.keras import optimizers\n",
        "#from tensorflow.keras import activations\n",
        "#from tensorflow.keras import constraints\n",
        "#from tensorflow.keras import initializers\n",
        "#from tensorflow.keras import regularizers\n",
        "\n",
        "checkpoint_path = \"training_1/cp.ckpt\"\n",
        "checkpoint_dir = os.path.dirname(checkpoint_path)\n",
        "\n",
        "np.random.seed(0)\n",
        "\n",
        "print('\\ndone')"
      ],
      "execution_count": 2,
      "outputs": [
        {
          "output_type": "stream",
          "text": [
            "\n",
            "done\n"
          ],
          "name": "stdout"
        }
      ]
    },
    {
      "cell_type": "code",
      "metadata": {
        "id": "54k6HVvB2v24",
        "colab_type": "code",
        "colab": {
          "base_uri": "https://localhost:8080/",
          "height": 52
        },
        "outputId": "8a6f9207-1dac-4368-add0-a12abc21174b"
      },
      "source": [
        "DATA_PATH = \"/content/drive/My Drive/pf_dsets/pf_subset\"\n",
        "NUMBER = \"1\"\n",
        "PROC = \"-processed-seqlen256.csv\"\n",
        "#PROC = \"\"\n",
        "SOURCE_PATH = DATA_PATH + NUMBER + PROC\n",
        "#VAL_PATH = DATA_PATH + \"validation\"+ PROC +\".csv\"\n",
        "#TRAIN_PATH = DATA_PATH + \"jigsaw-toxic-comment-train\"+ PROC +\".csv\"\n",
        "\n",
        "EPOCHS = 3\n",
        "BATCH_SIZE = 16\n",
        "#N_STEPS = 500\n",
        "N_STEPS = 50\n",
        "SEQUENCE_LENGTH = 256\n",
        "\n",
        "pf_d1 = pd.read_csv(SOURCE_PATH)\n",
        "#val_data = pd.read_csv(VAL_PATH)\n",
        "#test_data = pd.read_csv(TEST_PATH)\n",
        "#train_data = pd.read_csv(TRAIN_PATH)\n",
        "\n",
        "\n",
        "print('\\ndone')"
      ],
      "execution_count": 3,
      "outputs": [
        {
          "output_type": "stream",
          "text": [
            "\n",
            "done\n"
          ],
          "name": "stdout"
        }
      ]
    },
    {
      "cell_type": "code",
      "metadata": {
        "id": "h8mAv8asgkY-",
        "colab_type": "code",
        "colab": {
          "base_uri": "https://localhost:8080/",
          "height": 52
        },
        "outputId": "d9abfea8-b768-4e74-dda8-b59e3f021128"
      },
      "source": [
        "def str2int(line):\n",
        "  line = line.replace('(','')\n",
        "  line = line.replace(')','')\n",
        "  line = line.replace(',',' ')\n",
        "  narray = line.split()\n",
        "  return list(map(int, narray))\n",
        "def convert(frame):\n",
        "  lol = []\n",
        "  for i in range(frame.shape[0]):\n",
        "    lol.append(str2int(frame.iloc[i,3]))\n",
        "  return np.asarray(lol,dtype=np.int32)\n",
        "print('\\ndone')"
      ],
      "execution_count": 4,
      "outputs": [
        {
          "output_type": "stream",
          "text": [
            "\n",
            "done\n"
          ],
          "name": "stdout"
        }
      ]
    },
    {
      "cell_type": "code",
      "metadata": {
        "id": "paXRRgCu96wx",
        "colab_type": "code",
        "colab": {
          "base_uri": "https://localhost:8080/",
          "height": 121
        },
        "outputId": "f7e15992-1672-47aa-fce3-968e2948de6a"
      },
      "source": [
        "def get_tokenizer():#bert_path=BERT_PATH_SAVEDMODEL):\n",
        "    \"\"\"Get the tokenizer for a BERT layer.\"\"\"\n",
        "    #bert_path = \"https://tfhub.dev/google/small_bert/bert_uncased_L-2_H-256_A-4/1\"\n",
        "    #bert_path = \"https://tfhub.dev/tensorflow/bert_en_cased_L-24_H-1024_A-16/2\"\n",
        "    bert_path = \"https://tfhub.dev/tensorflow/bert_en_cased_L-12_H-768_A-12/2\"\n",
        "    bert_model = hub.keras_layer.load_module(bert_path)\n",
        "    \n",
        "    vocab_file = bert_model.vocab_file.asset_path.numpy()\n",
        "    cased = bert_model.do_lower_case.numpy()\n",
        "    tf.gfile = tf.io.gfile  # for bert.tokenization.load_vocab in tokenizer\n",
        "    tokenizer = bert.tokenization.FullTokenizer(vocab_file, cased)\n",
        "    #tokenizer = BertWordPieceTokenizer(vocab_file,lowercase=False)\n",
        "  \n",
        "    return tokenizer\n",
        "\n",
        "tokenizer = get_tokenizer()\n",
        "\n",
        "def process_sentence(sentence, max_seq_length=SEQUENCE_LENGTH, tokenizer=tokenizer):\n",
        "    \"\"\" Converts sentence to ['input_word_ids', 'input_mask', 'segment_ids'] for BERT. \"\"\"\n",
        "    # Tokenize, and truncate to max_seq_length if necessary.\n",
        "    tokens = tokenizer.tokenize(sentence)\n",
        "    if len(tokens) > max_seq_length - 2:\n",
        "        tokens = tokens[:(max_seq_length - 2)]\n",
        "\n",
        "    # Convert the tokens in the sentence to word IDs.\n",
        "    input_ids = tokenizer.convert_tokens_to_ids([\"[CLS]\"] + tokens + [\"[SEP]\"])\n",
        "\n",
        "    # The mask has 1 for real tokens and 0 for padding tokens. Only real tokens are attended to.\n",
        "    input_mask = [1] * len(input_ids)\n",
        "\n",
        "    # Zero-pad up to the sequence length.\n",
        "    pad_length = max_seq_length - len(input_ids)\n",
        "    input_ids.extend([0] * pad_length)\n",
        "    input_mask.extend([0] * pad_length)\n",
        "\n",
        "    # We only have one input segment.\n",
        "    segment_ids = [0] * max_seq_length\n",
        "\n",
        "    return (input_ids, input_mask, segment_ids)\n",
        "print('\\ndone')"
      ],
      "execution_count": 5,
      "outputs": [
        {
          "output_type": "stream",
          "text": [
            "INFO:absl:Using /tmp/tfhub_modules to cache modules.\n",
            "INFO:absl:Downloading TF-Hub Module 'https://tfhub.dev/tensorflow/bert_en_cased_L-12_H-768_A-12/2'.\n",
            "INFO:absl:Downloaded https://tfhub.dev/tensorflow/bert_en_cased_L-12_H-768_A-12/2, Total size: 417.01MB\n",
            "INFO:absl:Downloaded TF-Hub Module 'https://tfhub.dev/tensorflow/bert_en_cased_L-12_H-768_A-12/2'.\n"
          ],
          "name": "stderr"
        },
        {
          "output_type": "stream",
          "text": [
            "\n",
            "done\n"
          ],
          "name": "stdout"
        }
      ]
    },
    {
      "cell_type": "code",
      "metadata": {
        "id": "Sekwgx8I2xqY",
        "colab_type": "code",
        "colab": {
          "base_uri": "https://localhost:8080/",
          "height": 52
        },
        "outputId": "912066bc-2f96-4462-8882-17de85826a55"
      },
      "source": [
        "AUTO = tf.data.experimental.AUTOTUNE\n",
        "\n",
        "test_data = pf_d1.iloc[1:500,:]\n",
        "val_data = pf_d1.iloc[500:2500,:]\n",
        "train_data = pf_d1.iloc[2500:,:]\n",
        "\n",
        "x_train = convert(train_data)\n",
        "x_valid = convert(val_data)\n",
        "x_test = convert(test_data)\n",
        "\n",
        "#length of list equals number of samples, depth equals number of classes, result is shape (samples,classes)\n",
        "y_valid = np.asarray(tf.one_hot(list(val_data.pubID.values),\n",
        "                     depth=1370,\n",
        "                     axis=-1,\n",
        "                     dtype=tf.int32))\n",
        "\n",
        "#y_valid = val_data.pubID.values\n",
        "y_train = np.asarray(tf.one_hot(list(train_data.pubID.values),\n",
        "                     depth=1370,\n",
        "                     axis=-1,\n",
        "                     dtype=tf.int32))\n",
        "#need y_test for evaluate\n",
        "y_test = np.asarray(tf.one_hot(list(test_data.pubID.values),\n",
        "                     depth=1370,\n",
        "                     axis=-1,\n",
        "                     dtype=tf.int32))\n",
        "\n",
        "train_dataset = (\n",
        "    tf.data.Dataset\n",
        "    .from_tensor_slices((x_train, y_train))\n",
        "    .repeat()\n",
        "    .shuffle(2048)\n",
        "    .batch(BATCH_SIZE)\n",
        "    .prefetch(AUTO)\n",
        ")\n",
        "valid_dataset = (\n",
        "    tf.data.Dataset\n",
        "    .from_tensor_slices((x_valid, y_valid))\n",
        "    .batch(BATCH_SIZE)\n",
        "    .cache()\n",
        "    .prefetch(AUTO)\n",
        ")\n",
        "\n",
        "test_dataset = (\n",
        "    tf.data.Dataset\n",
        "    .from_tensor_slices(x_test)\n",
        "    .batch(BATCH_SIZE)\n",
        ")\n",
        "\n",
        "print('\\ndone')"
      ],
      "execution_count": 6,
      "outputs": [
        {
          "output_type": "stream",
          "text": [
            "\n",
            "done\n"
          ],
          "name": "stdout"
        }
      ]
    },
    {
      "cell_type": "code",
      "metadata": {
        "id": "6aRdvIFv5r3p",
        "colab_type": "code",
        "colab": {}
      },
      "source": [
        "#important info here\n",
        "def build_model(transformer, max_len=256):\n",
        "    input_word_ids = Input(shape=(max_len,), dtype=tf.int32, name=\"input_word_ids\")\n",
        "    #something may be wrong here\n",
        "    sequence_output = transformer(input_word_ids)[0]\n",
        "    cls_token = sequence_output[:, 0, :]\n",
        "    cls_token = Dense(512, activation=\"hard_sigmoid\")(cls_token)\n",
        "    cls_token = Dropout(0.12)(cls_token)\n",
        "    out = Dense(1370, activation='softmax')(cls_token)#can maybe try hard_sigmoid\n",
        "    \n",
        "    model = Model(inputs=input_word_ids, outputs=out)\n",
        "    \n",
        "    \n",
        "    model.compile(Adam(lr=1.5e-1), #try 1.5e-2, originally 1.5e-5\n",
        "                  loss='categorical_crossentropy', \n",
        "                  metrics=['accuracy'])\n",
        "    \n",
        "    return model\n",
        "print('\\ndone')"
      ],
      "execution_count": 8,
      "outputs": []
    },
    {
      "cell_type": "code",
      "metadata": {
        "id": "xCu0aWu56L_9",
        "colab_type": "code",
        "colab": {
          "base_uri": "https://localhost:8080/",
          "height": 567,
          "referenced_widgets": [
            "d8799c7463f848498277bfa42ae4fc21",
            "2568de9f0c6247abb751f654e92351b9",
            "fdb7344ee2254a30afcf76be60d8b5f0",
            "94f5a450bb494de1b5ee4c34d8b3d540",
            "eb2741467e144cd2bc5b816e9b6d01ee",
            "03ad5d83d0df4e708d86a359ee27acf7",
            "9ffcb3bf312348429e8810e358c3b1be",
            "26e78dd2df4749fb93a4e9fa205acddb",
            "b231fc6c282946b2b2b999dfcaa5dd89",
            "915217c005bd40f8a03784f4198bdf7a",
            "bf5a97dfbac545a49e03acf1d2416711",
            "8287eec0b50b47abb26ac3014c1deaac",
            "a4239b34cf9f4b2a83abc478909a95a2",
            "79dcbcf4be844cecb3dfbe0a7e6b7de1",
            "8e9b3b81616f4be196ce2c5ee9f1737f",
            "e2b8fe09bc8f4eeeb718b2ae740b5e04"
          ]
        },
        "outputId": "26166619-bb05-45cf-c5c6-79607fba6136"
      },
      "source": [
        "# Create a callback that saves the model's weights\n",
        "cp_callback = tf.keras.callbacks.ModelCheckpoint(filepath=checkpoint_path,\n",
        "                                                 save_weights_only=True,\n",
        "                                                 verbose=1)\n",
        "#many models to try here\n",
        "transformer_layer = transformers.TFBertModel.\\\n",
        "    from_pretrained('bert-base-cased')\n",
        "bert_model = build_model(transformer_layer, max_len=256)\n",
        "bert_model.summary()\n"
      ],
      "execution_count": 10,
      "outputs": [
        {
          "output_type": "display_data",
          "data": {
            "application/vnd.jupyter.widget-view+json": {
              "model_id": "d8799c7463f848498277bfa42ae4fc21",
              "version_minor": 0,
              "version_major": 2
            },
            "text/plain": [
              "HBox(children=(FloatProgress(value=0.0, description='Downloading', max=433.0, style=ProgressStyle(description_…"
            ]
          },
          "metadata": {
            "tags": []
          }
        },
        {
          "output_type": "stream",
          "text": [
            "\n"
          ],
          "name": "stdout"
        },
        {
          "output_type": "display_data",
          "data": {
            "application/vnd.jupyter.widget-view+json": {
              "model_id": "b231fc6c282946b2b2b999dfcaa5dd89",
              "version_minor": 0,
              "version_major": 2
            },
            "text/plain": [
              "HBox(children=(FloatProgress(value=0.0, description='Downloading', max=526681800.0, style=ProgressStyle(descri…"
            ]
          },
          "metadata": {
            "tags": []
          }
        },
        {
          "output_type": "stream",
          "text": [
            "\n"
          ],
          "name": "stdout"
        },
        {
          "output_type": "stream",
          "text": [
            "WARNING:transformers.modeling_tf_utils:Some weights of the model checkpoint at bert-base-cased were not used when initializing TFBertModel: ['mlm___cls', 'nsp___cls']\n",
            "- This IS expected if you are initializing TFBertModel from the checkpoint of a model trained on another task or with another architecture (e.g. initializing a BertForSequenceClassification model from a BertForPretraining model).\n",
            "- This IS NOT expected if you are initializing TFBertModel from the checkpoint of a model that you expect to be exactly identical (initializing a BertForSequenceClassification model from a BertForSequenceClassification model).\n",
            "WARNING:transformers.modeling_tf_utils:All the weights of TFBertModel were initialized from the model checkpoint at bert-base-cased.\n",
            "If your task is similar to the task the model of the ckeckpoint was trained on, you can already use TFBertModel for predictions without further training.\n"
          ],
          "name": "stderr"
        },
        {
          "output_type": "stream",
          "text": [
            "Model: \"model\"\n",
            "_________________________________________________________________\n",
            "Layer (type)                 Output Shape              Param #   \n",
            "=================================================================\n",
            "input_word_ids (InputLayer)  [(None, 256)]             0         \n",
            "_________________________________________________________________\n",
            "tf_bert_model (TFBertModel)  ((None, 256, 768), (None, 108310272 \n",
            "_________________________________________________________________\n",
            "tf_op_layer_strided_slice (T [(None, 768)]             0         \n",
            "_________________________________________________________________\n",
            "dense (Dense)                (None, 512)               393728    \n",
            "_________________________________________________________________\n",
            "dropout_37 (Dropout)         (None, 512)               0         \n",
            "_________________________________________________________________\n",
            "dense_1 (Dense)              (None, 1370)              702810    \n",
            "=================================================================\n",
            "Total params: 109,406,810\n",
            "Trainable params: 109,406,810\n",
            "Non-trainable params: 0\n",
            "_________________________________________________________________\n"
          ],
          "name": "stdout"
        }
      ]
    },
    {
      "cell_type": "code",
      "metadata": {
        "id": "BPjush_nnnNP",
        "colab_type": "code",
        "colab": {
          "base_uri": "https://localhost:8080/",
          "height": 327
        },
        "outputId": "3a770ddd-e8a7-4924-a8b0-1cdd46039f8b"
      },
      "source": [
        "#need this whenever a change is made to the model\n",
        "#directory is empty for first time run. To save weights, move the checkpoints off colab\n",
        "bert_model.load_weights(checkpoint_path)\n",
        "print('\\ndone')"
      ],
      "execution_count": 11,
      "outputs": [
        {
          "output_type": "error",
          "ename": "ValueError",
          "evalue": "ignored",
          "traceback": [
            "\u001b[0;31m---------------------------------------------------------------------------\u001b[0m",
            "\u001b[0;31mValueError\u001b[0m                                Traceback (most recent call last)",
            "\u001b[0;32m<ipython-input-11-b66eda627f5b>\u001b[0m in \u001b[0;36m<module>\u001b[0;34m()\u001b[0m\n\u001b[1;32m      1\u001b[0m \u001b[0;31m#need this whenever a change is made to the model\u001b[0m\u001b[0;34m\u001b[0m\u001b[0;34m\u001b[0m\u001b[0;34m\u001b[0m\u001b[0m\n\u001b[0;32m----> 2\u001b[0;31m \u001b[0mbert_model\u001b[0m\u001b[0;34m.\u001b[0m\u001b[0mload_weights\u001b[0m\u001b[0;34m(\u001b[0m\u001b[0mcheckpoint_path\u001b[0m\u001b[0;34m)\u001b[0m\u001b[0;34m\u001b[0m\u001b[0;34m\u001b[0m\u001b[0m\n\u001b[0m",
            "\u001b[0;32m/usr/local/lib/python3.6/dist-packages/tensorflow/python/keras/engine/training.py\u001b[0m in \u001b[0;36mload_weights\u001b[0;34m(self, filepath, by_name, skip_mismatch)\u001b[0m\n\u001b[1;32m    248\u001b[0m         raise ValueError('Load weights is not yet supported with TPUStrategy '\n\u001b[1;32m    249\u001b[0m                          'with steps_per_run greater than 1.')\n\u001b[0;32m--> 250\u001b[0;31m     \u001b[0;32mreturn\u001b[0m \u001b[0msuper\u001b[0m\u001b[0;34m(\u001b[0m\u001b[0mModel\u001b[0m\u001b[0;34m,\u001b[0m \u001b[0mself\u001b[0m\u001b[0;34m)\u001b[0m\u001b[0;34m.\u001b[0m\u001b[0mload_weights\u001b[0m\u001b[0;34m(\u001b[0m\u001b[0mfilepath\u001b[0m\u001b[0;34m,\u001b[0m \u001b[0mby_name\u001b[0m\u001b[0;34m,\u001b[0m \u001b[0mskip_mismatch\u001b[0m\u001b[0;34m)\u001b[0m\u001b[0;34m\u001b[0m\u001b[0;34m\u001b[0m\u001b[0m\n\u001b[0m\u001b[1;32m    251\u001b[0m \u001b[0;34m\u001b[0m\u001b[0m\n\u001b[1;32m    252\u001b[0m   def compile(self,\n",
            "\u001b[0;32m/usr/local/lib/python3.6/dist-packages/tensorflow/python/keras/engine/network.py\u001b[0m in \u001b[0;36mload_weights\u001b[0;34m(self, filepath, by_name, skip_mismatch)\u001b[0m\n\u001b[1;32m   1229\u001b[0m     \u001b[0;32melse\u001b[0m\u001b[0;34m:\u001b[0m\u001b[0;34m\u001b[0m\u001b[0;34m\u001b[0m\u001b[0m\n\u001b[1;32m   1230\u001b[0m       \u001b[0;32mtry\u001b[0m\u001b[0;34m:\u001b[0m\u001b[0;34m\u001b[0m\u001b[0;34m\u001b[0m\u001b[0m\n\u001b[0;32m-> 1231\u001b[0;31m         \u001b[0mpy_checkpoint_reader\u001b[0m\u001b[0;34m.\u001b[0m\u001b[0mNewCheckpointReader\u001b[0m\u001b[0;34m(\u001b[0m\u001b[0mfilepath\u001b[0m\u001b[0;34m)\u001b[0m\u001b[0;34m\u001b[0m\u001b[0;34m\u001b[0m\u001b[0m\n\u001b[0m\u001b[1;32m   1232\u001b[0m         \u001b[0msave_format\u001b[0m \u001b[0;34m=\u001b[0m \u001b[0;34m'tf'\u001b[0m\u001b[0;34m\u001b[0m\u001b[0;34m\u001b[0m\u001b[0m\n\u001b[1;32m   1233\u001b[0m       \u001b[0;32mexcept\u001b[0m \u001b[0merrors_impl\u001b[0m\u001b[0;34m.\u001b[0m\u001b[0mDataLossError\u001b[0m\u001b[0;34m:\u001b[0m\u001b[0;34m\u001b[0m\u001b[0;34m\u001b[0m\u001b[0m\n",
            "\u001b[0;32m/usr/local/lib/python3.6/dist-packages/tensorflow/python/training/py_checkpoint_reader.py\u001b[0m in \u001b[0;36mNewCheckpointReader\u001b[0;34m(filepattern)\u001b[0m\n\u001b[1;32m     93\u001b[0m   \"\"\"\n\u001b[1;32m     94\u001b[0m   \u001b[0;32mtry\u001b[0m\u001b[0;34m:\u001b[0m\u001b[0;34m\u001b[0m\u001b[0;34m\u001b[0m\u001b[0m\n\u001b[0;32m---> 95\u001b[0;31m     \u001b[0;32mreturn\u001b[0m \u001b[0mCheckpointReader\u001b[0m\u001b[0;34m(\u001b[0m\u001b[0mcompat\u001b[0m\u001b[0;34m.\u001b[0m\u001b[0mas_bytes\u001b[0m\u001b[0;34m(\u001b[0m\u001b[0mfilepattern\u001b[0m\u001b[0;34m)\u001b[0m\u001b[0;34m)\u001b[0m\u001b[0;34m\u001b[0m\u001b[0;34m\u001b[0m\u001b[0m\n\u001b[0m\u001b[1;32m     96\u001b[0m   \u001b[0;31m# TODO(b/143319754): Remove the RuntimeError casting logic once we resolve the\u001b[0m\u001b[0;34m\u001b[0m\u001b[0;34m\u001b[0m\u001b[0;34m\u001b[0m\u001b[0m\n\u001b[1;32m     97\u001b[0m   \u001b[0;31m# issue with throwing python exceptions from C++.\u001b[0m\u001b[0;34m\u001b[0m\u001b[0;34m\u001b[0m\u001b[0;34m\u001b[0m\u001b[0m\n",
            "\u001b[0;31mValueError\u001b[0m: Unsuccessful TensorSliceReader constructor: Failed to get matching files on training_1/cp.ckpt: Not found: training_1; No such file or directory"
          ]
        }
      ]
    },
    {
      "cell_type": "code",
      "metadata": {
        "id": "HtajtguFRUuS",
        "colab_type": "code",
        "colab": {}
      },
      "source": [
        "#bert_model.get_output_at(node_index=)\n",
        "#bert_pred = bert_model.make_predict_function()"
      ],
      "execution_count": null,
      "outputs": []
    },
    {
      "cell_type": "code",
      "metadata": {
        "id": "Bt3-FJTJOfZY",
        "colab_type": "code",
        "colab": {}
      },
      "source": [
        "#bert_model.load_weights(checkpoint_path)\n",
        "#bert_model = tf.saved_model.load()"
      ],
      "execution_count": null,
      "outputs": []
    },
    {
      "cell_type": "code",
      "metadata": {
        "id": "NO7h0-6f6TCV",
        "colab_type": "code",
        "colab": {
          "base_uri": "https://localhost:8080/",
          "height": 225
        },
        "outputId": "d13ac73a-7436-4785-ba89-a055b4e562b9"
      },
      "source": [
        "################--Run the model--################\n",
        "train_history = bert_model.fit(\n",
        "    train_dataset,\n",
        "    steps_per_epoch=N_STEPS,\n",
        "    validation_data=valid_dataset,\n",
        "    callbacks=[cp_callback],\n",
        "    epochs=EPOCHS\n",
        ")\n",
        "#need a way to have secondary loss (i.e. if correct label is not equal max of output but is in top 5 or 10, then scale down error)"
      ],
      "execution_count": 13,
      "outputs": [
        {
          "output_type": "stream",
          "text": [
            "Epoch 1/3\n",
            "50/50 [==============================] - ETA: 0s - loss: 12.8308 - accuracy: 0.0125\n",
            "Epoch 00001: saving model to training_1/cp.ckpt\n",
            "50/50 [==============================] - 52s 1s/step - loss: 12.8308 - accuracy: 0.0125 - val_loss: 11.4453 - val_accuracy: 0.0025\n",
            "Epoch 2/3\n",
            "50/50 [==============================] - ETA: 0s - loss: 12.8670 - accuracy: 0.0225\n",
            "Epoch 00002: saving model to training_1/cp.ckpt\n",
            "50/50 [==============================] - 51s 1s/step - loss: 12.8670 - accuracy: 0.0225 - val_loss: 13.0772 - val_accuracy: 0.0600\n",
            "Epoch 3/3\n",
            "50/50 [==============================] - ETA: 0s - loss: 13.2847 - accuracy: 0.0113\n",
            "Epoch 00003: saving model to training_1/cp.ckpt\n",
            "50/50 [==============================] - 52s 1s/step - loss: 13.2847 - accuracy: 0.0113 - val_loss: 12.7629 - val_accuracy: 0.0125\n"
          ],
          "name": "stdout"
        }
      ]
    },
    {
      "cell_type": "code",
      "metadata": {
        "id": "eXuipFpACyqg",
        "colab_type": "code",
        "colab": {}
      },
      "source": [
        "#we need only one configuration\n",
        "#tf.saved_model.save(bert_model, checkpoint_dir)\n"
      ],
      "execution_count": null,
      "outputs": []
    },
    {
      "cell_type": "code",
      "metadata": {
        "id": "byt4x9J-fEV5",
        "colab_type": "code",
        "colab": {}
      },
      "source": [
        "re_model = tf.saved_model.load(checkpoint_dir)\n",
        "re_model.summary()\n"
      ],
      "execution_count": null,
      "outputs": []
    },
    {
      "cell_type": "code",
      "metadata": {
        "id": "E15-eXgezNm1",
        "colab_type": "code",
        "colab": {
          "base_uri": "https://localhost:8080/",
          "height": 573
        },
        "outputId": "296e4a5c-0d53-42ab-fde2-cbbe0d15392a"
      },
      "source": [
        "import matplotlib.pyplot as plt\n",
        "#plotting\n",
        "history_dict = train_history.history\n",
        "history_dict.keys()\n",
        "\n",
        "acc = history_dict['accuracy']\n",
        "val_acc = history_dict['val_accuracy']\n",
        "loss = history_dict['loss']\n",
        "val_loss = history_dict['val_loss']\n",
        "\n",
        "epochs = range(1, len(acc) + 1)\n",
        "\n",
        "# \"bo\" is for \"blue dot\"\n",
        "plt.plot(epochs, loss, 'bo', label='Training loss')\n",
        "# b is for \"solid blue line\"\n",
        "plt.plot(epochs, val_loss, 'b', label='Validation loss')\n",
        "plt.title('Training and validation loss')\n",
        "plt.xlabel('Epochs')\n",
        "plt.ylabel('Loss')\n",
        "plt.legend()\n",
        "\n",
        "plt.show()\n",
        "\n",
        "plt.clf()   # clear figure\n",
        "\n",
        "plt.plot(epochs, acc, 'bo', label='Training acc')\n",
        "plt.plot(epochs, val_acc, 'b', label='Validation acc')\n",
        "plt.title('Training and validation accuracy')\n",
        "plt.xlabel('Epochs')\n",
        "plt.ylabel('Accuracy')\n",
        "plt.legend()\n",
        "\n",
        "plt.show()"
      ],
      "execution_count": 15,
      "outputs": [
        {
          "output_type": "display_data",
          "data": {
            "image/png": "[encoded data removed]",
            "text/plain": [
              "<Figure size 432x288 with 1 Axes>"
            ]
          },
          "metadata": {
            "tags": [],
            "needs_background": "light"
          }
        },
        {
          "output_type": "display_data",
          "data": {
            "image/png": "[encoded data removed]",
            "text/plain": [
              "<Figure size 432x288 with 1 Axes>"
            ]
          },
          "metadata": {
            "tags": [],
            "needs_background": "light"
          }
        }
      ]
    },
    {
      "cell_type": "code",
      "metadata": {
        "id": "gchJncmGpDAm",
        "colab_type": "code",
        "colab": {}
      },
      "source": [
        "pf_d1.head()"
      ],
      "execution_count": null,
      "outputs": []
    },
    {
      "cell_type": "code",
      "metadata": {
        "id": "EYD_6jkw9Wzb",
        "colab_type": "code",
        "colab": {
          "base_uri": "https://localhost:8080/",
          "height": 52
        },
        "outputId": "22873b0c-887c-4919-eac2-677552cd5d3a"
      },
      "source": [
        "original_text = pf_d1.iloc[23137,1]\n",
        "#original_text = \"\"\n",
        "new_word_vec = np.asarray(process_sentence(original_text)[0])\n",
        "cartridge = (\n",
        "    tf.data.Dataset\n",
        "    .from_tensor_slices(new_word_vec.reshape(1,-1))\n",
        "    .batch(1)\n",
        "    #.prefetch(AUTO)\n",
        ")\n",
        "print('\\ndone')"
      ],
      "execution_count": 16,
      "outputs": [
        {
          "output_type": "stream",
          "text": [
            "\n",
            "done\n"
          ],
          "name": "stdout"
        }
      ]
    },
    {
      "cell_type": "code",
      "metadata": {
        "id": "x16ufVUbgV6J",
        "colab_type": "code",
        "colab": {
          "base_uri": "https://localhost:8080/",
          "height": 52
        },
        "outputId": "bb65a88a-9ac7-441f-e05b-480c222b9e96"
      },
      "source": [
        "new_word_vec = np.asarray(new_word_vec)\n",
        "print(new_word_vec.shape)\n",
        "new_word_vec = new_word_vec.reshape(1,-1)\n",
        "print(new_word_vec.shape)\n"
      ],
      "execution_count": 17,
      "outputs": [
        {
          "output_type": "stream",
          "text": [
            "(256,)\n",
            "(1, 256)\n"
          ],
          "name": "stdout"
        }
      ]
    },
    {
      "cell_type": "code",
      "metadata": {
        "id": "RKosPes-t-SN",
        "colab_type": "code",
        "colab": {
          "base_uri": "https://localhost:8080/",
          "height": 52
        },
        "outputId": "6328f9e3-8195-485f-92ee-3a51af950f56"
      },
      "source": [
        "#print(cartridge.shape)\n",
        "print(cartridge.element_spec)\n",
        "print(cartridge)"
      ],
      "execution_count": 18,
      "outputs": [
        {
          "output_type": "stream",
          "text": [
            "TensorSpec(shape=(None, 256), dtype=tf.int64, name=None)\n",
            "<BatchDataset shapes: (None, 256), types: tf.int64>\n"
          ],
          "name": "stdout"
        }
      ]
    },
    {
      "cell_type": "code",
      "metadata": {
        "id": "Cu7yjOhZq61i",
        "colab_type": "code",
        "colab": {
          "base_uri": "https://localhost:8080/",
          "height": 35
        },
        "outputId": "72268397-2ccd-45af-d419-dbf78db1d1b3"
      },
      "source": [
        "prediction = bert_model.predict(cartridge)\n",
        "print(prediction.shape)\n",
        "#may be problem with input"
      ],
      "execution_count": 19,
      "outputs": [
        {
          "output_type": "stream",
          "text": [
            "(1, 1370)\n"
          ],
          "name": "stdout"
        }
      ]
    },
    {
      "cell_type": "code",
      "metadata": {
        "id": "IFwIsOCfj2dC",
        "colab_type": "code",
        "colab": {
          "base_uri": "https://localhost:8080/",
          "height": 35
        },
        "outputId": "5dfe12b0-87c1-4114-efa9-2548fa8e65c3"
      },
      "source": [
        "prediction_copy = prediction.copy()\n",
        "print(np.argmax(prediction_copy))"
      ],
      "execution_count": 20,
      "outputs": [
        {
          "output_type": "stream",
          "text": [
            "218\n"
          ],
          "name": "stdout"
        }
      ]
    },
    {
      "cell_type": "code",
      "metadata": {
        "id": "yXlJmuaQkQvw",
        "colab_type": "code",
        "colab": {
          "base_uri": "https://localhost:8080/",
          "height": 35
        },
        "outputId": "0defe384-51d3-4e57-d927-1c06d1b7ffdc"
      },
      "source": [
        "print(np.argmax(prediction_copy),np.argmax(prediction))"
      ],
      "execution_count": 21,
      "outputs": [
        {
          "output_type": "stream",
          "text": [
            "218 218\n"
          ],
          "name": "stdout"
        }
      ]
    },
    {
      "cell_type": "code",
      "metadata": {
        "id": "Pl1wFafTkuMe",
        "colab_type": "code",
        "colab": {
          "base_uri": "https://localhost:8080/",
          "height": 35
        },
        "outputId": "162b79c7-2ccc-4e75-d465-54905156163a"
      },
      "source": [
        "original_pubid = pf_d1.iloc[23137,0]\n",
        "print(original_pubid)"
      ],
      "execution_count": 22,
      "outputs": [
        {
          "output_type": "stream",
          "text": [
            "1032\n"
          ],
          "name": "stdout"
        }
      ]
    },
    {
      "cell_type": "code",
      "metadata": {
        "id": "0qZQLyVmqET4",
        "colab_type": "code",
        "colab": {
          "base_uri": "https://localhost:8080/",
          "height": 35
        },
        "outputId": "e0135ca9-1239-4be2-c469-f6a70821d8f1"
      },
      "source": [
        "top5 = np.zeros((1,5),dtype=np.int16)\n",
        "#top5 = np.zeros((1,5))\n",
        "#\n",
        "for i in range(5):\n",
        "  idx = np.argmax(prediction)\n",
        "  top5[0,i] = idx\n",
        "  prediction[0,idx] = 0\n",
        "print(top5)"
      ],
      "execution_count": 23,
      "outputs": [
        {
          "output_type": "stream",
          "text": [
            "[[ 218 1220  863 1288  659]]\n"
          ],
          "name": "stdout"
        }
      ]
    },
    {
      "cell_type": "code",
      "metadata": {
        "id": "03-n3gNOMyG2",
        "colab_type": "code",
        "colab": {}
      },
      "source": [
        "import tensorflow as tf\n",
        "from tensorflow.python.client import device_lib\n",
        "print(device_lib.list_local_devices())"
      ],
      "execution_count": null,
      "outputs": []
    },
    {
      "cell_type": "code",
      "metadata": {
        "id": "PcgPB__PCbcg",
        "colab_type": "code",
        "colab": {
          "base_uri": "https://localhost:8080/",
          "height": 138
        },
        "outputId": "65f4ec44-735c-4f9f-8fdd-78866d81e372"
      },
      "source": [
        "lookup = pd.read_csv('/content/drive/My Drive/pf_dsets/pf_lookup.csv')\n",
        "print(\"Best match first:\\n\")\n",
        "for i in range(5):\n",
        "  print(lookup.iloc[top5[0,i],0])"
      ],
      "execution_count": 25,
      "outputs": [
        {
          "output_type": "stream",
          "text": [
            "Best match first:\n",
            "\n",
            "BIOINFORMATICS\n",
            "ACM TRANSACTIONS ON GRAPHICS\n",
            "IEEE ACCESS\n",
            "IEEE TRANSACTIONS ON SERVICES COMPUTING\n",
            "COMPUTERS & INDUSTRIAL ENGINEERING\n"
          ],
          "name": "stdout"
        }
      ]
    }
  ]
}